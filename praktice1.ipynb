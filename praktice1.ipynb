{
  "nbformat": 4,
  "nbformat_minor": 0,
  "metadata": {
    "colab": {
      "provenance": [],
      "toc_visible": true,
      "include_colab_link": true
    },
    "kernelspec": {
      "name": "python3",
      "display_name": "Python 3"
    },
    "language_info": {
      "name": "python"
    }
  },
  "cells": [
    {
      "cell_type": "markdown",
      "metadata": {
        "id": "view-in-github",
        "colab_type": "text"
      },
      "source": [
        "<a href=\"https://colab.research.google.com/github/chernovaok/StatLiteracyCourse1/blob/main/praktice1.ipynb\" target=\"_parent\"><img src=\"https://colab.research.google.com/assets/colab-badge.svg\" alt=\"Open In Colab\"/></a>"
      ]
    },
    {
      "cell_type": "markdown",
      "source": [
        "## Statistical Literacy Course by Oksana Chernova\n",
        "# Part 1. Descriptive statistics and elements of visual analysis"
      ],
      "metadata": {
        "id": "klUW0d7DpSOK"
      }
    },
    {
      "cell_type": "code",
      "execution_count": null,
      "metadata": {
        "colab": {
          "base_uri": "https://localhost:8080/",
          "height": 206
        },
        "id": "cepCAXp6b9QO",
        "outputId": "8ec8c751-dc9c-43fc-c693-48494586dcfb"
      },
      "outputs": [
        {
          "output_type": "execute_result",
          "data": {
            "text/plain": [
              "   Height.in.cm Gender  Shoe.size\n",
              "0           168      F         39\n",
              "1           174      M         42\n",
              "2           180      M         42\n",
              "3           184      F         39\n",
              "4           167      F         38"
            ],
            "text/html": [
              "\n",
              "  <div id=\"df-b899babc-0879-4d60-ae62-54180ab02c74\" class=\"colab-df-container\">\n",
              "    <div>\n",
              "<style scoped>\n",
              "    .dataframe tbody tr th:only-of-type {\n",
              "        vertical-align: middle;\n",
              "    }\n",
              "\n",
              "    .dataframe tbody tr th {\n",
              "        vertical-align: top;\n",
              "    }\n",
              "\n",
              "    .dataframe thead th {\n",
              "        text-align: right;\n",
              "    }\n",
              "</style>\n",
              "<table border=\"1\" class=\"dataframe\">\n",
              "  <thead>\n",
              "    <tr style=\"text-align: right;\">\n",
              "      <th></th>\n",
              "      <th>Height.in.cm</th>\n",
              "      <th>Gender</th>\n",
              "      <th>Shoe.size</th>\n",
              "    </tr>\n",
              "  </thead>\n",
              "  <tbody>\n",
              "    <tr>\n",
              "      <th>0</th>\n",
              "      <td>168</td>\n",
              "      <td>F</td>\n",
              "      <td>39</td>\n",
              "    </tr>\n",
              "    <tr>\n",
              "      <th>1</th>\n",
              "      <td>174</td>\n",
              "      <td>M</td>\n",
              "      <td>42</td>\n",
              "    </tr>\n",
              "    <tr>\n",
              "      <th>2</th>\n",
              "      <td>180</td>\n",
              "      <td>M</td>\n",
              "      <td>42</td>\n",
              "    </tr>\n",
              "    <tr>\n",
              "      <th>3</th>\n",
              "      <td>184</td>\n",
              "      <td>F</td>\n",
              "      <td>39</td>\n",
              "    </tr>\n",
              "    <tr>\n",
              "      <th>4</th>\n",
              "      <td>167</td>\n",
              "      <td>F</td>\n",
              "      <td>38</td>\n",
              "    </tr>\n",
              "  </tbody>\n",
              "</table>\n",
              "</div>\n",
              "    <div class=\"colab-df-buttons\">\n",
              "\n",
              "  <div class=\"colab-df-container\">\n",
              "    <button class=\"colab-df-convert\" onclick=\"convertToInteractive('df-b899babc-0879-4d60-ae62-54180ab02c74')\"\n",
              "            title=\"Convert this dataframe to an interactive table.\"\n",
              "            style=\"display:none;\">\n",
              "\n",
              "  <svg xmlns=\"http://www.w3.org/2000/svg\" height=\"24px\" viewBox=\"0 -960 960 960\">\n",
              "    <path d=\"M120-120v-720h720v720H120Zm60-500h600v-160H180v160Zm220 220h160v-160H400v160Zm0 220h160v-160H400v160ZM180-400h160v-160H180v160Zm440 0h160v-160H620v160ZM180-180h160v-160H180v160Zm440 0h160v-160H620v160Z\"/>\n",
              "  </svg>\n",
              "    </button>\n",
              "\n",
              "  <style>\n",
              "    .colab-df-container {\n",
              "      display:flex;\n",
              "      gap: 12px;\n",
              "    }\n",
              "\n",
              "    .colab-df-convert {\n",
              "      background-color: #E8F0FE;\n",
              "      border: none;\n",
              "      border-radius: 50%;\n",
              "      cursor: pointer;\n",
              "      display: none;\n",
              "      fill: #1967D2;\n",
              "      height: 32px;\n",
              "      padding: 0 0 0 0;\n",
              "      width: 32px;\n",
              "    }\n",
              "\n",
              "    .colab-df-convert:hover {\n",
              "      background-color: #E2EBFA;\n",
              "      box-shadow: 0px 1px 2px rgba(60, 64, 67, 0.3), 0px 1px 3px 1px rgba(60, 64, 67, 0.15);\n",
              "      fill: #174EA6;\n",
              "    }\n",
              "\n",
              "    .colab-df-buttons div {\n",
              "      margin-bottom: 4px;\n",
              "    }\n",
              "\n",
              "    [theme=dark] .colab-df-convert {\n",
              "      background-color: #3B4455;\n",
              "      fill: #D2E3FC;\n",
              "    }\n",
              "\n",
              "    [theme=dark] .colab-df-convert:hover {\n",
              "      background-color: #434B5C;\n",
              "      box-shadow: 0px 1px 3px 1px rgba(0, 0, 0, 0.15);\n",
              "      filter: drop-shadow(0px 1px 2px rgba(0, 0, 0, 0.3));\n",
              "      fill: #FFFFFF;\n",
              "    }\n",
              "  </style>\n",
              "\n",
              "    <script>\n",
              "      const buttonEl =\n",
              "        document.querySelector('#df-b899babc-0879-4d60-ae62-54180ab02c74 button.colab-df-convert');\n",
              "      buttonEl.style.display =\n",
              "        google.colab.kernel.accessAllowed ? 'block' : 'none';\n",
              "\n",
              "      async function convertToInteractive(key) {\n",
              "        const element = document.querySelector('#df-b899babc-0879-4d60-ae62-54180ab02c74');\n",
              "        const dataTable =\n",
              "          await google.colab.kernel.invokeFunction('convertToInteractive',\n",
              "                                                    [key], {});\n",
              "        if (!dataTable) return;\n",
              "\n",
              "        const docLinkHtml = 'Like what you see? Visit the ' +\n",
              "          '<a target=\"_blank\" href=https://colab.research.google.com/notebooks/data_table.ipynb>data table notebook</a>'\n",
              "          + ' to learn more about interactive tables.';\n",
              "        element.innerHTML = '';\n",
              "        dataTable['output_type'] = 'display_data';\n",
              "        await google.colab.output.renderOutput(dataTable, element);\n",
              "        const docLink = document.createElement('div');\n",
              "        docLink.innerHTML = docLinkHtml;\n",
              "        element.appendChild(docLink);\n",
              "      }\n",
              "    </script>\n",
              "  </div>\n",
              "\n",
              "\n",
              "<div id=\"df-e24734c2-5502-4b42-8c33-92331e52699f\">\n",
              "  <button class=\"colab-df-quickchart\" onclick=\"quickchart('df-e24734c2-5502-4b42-8c33-92331e52699f')\"\n",
              "            title=\"Suggest charts\"\n",
              "            style=\"display:none;\">\n",
              "\n",
              "<svg xmlns=\"http://www.w3.org/2000/svg\" height=\"24px\"viewBox=\"0 0 24 24\"\n",
              "     width=\"24px\">\n",
              "    <g>\n",
              "        <path d=\"M19 3H5c-1.1 0-2 .9-2 2v14c0 1.1.9 2 2 2h14c1.1 0 2-.9 2-2V5c0-1.1-.9-2-2-2zM9 17H7v-7h2v7zm4 0h-2V7h2v10zm4 0h-2v-4h2v4z\"/>\n",
              "    </g>\n",
              "</svg>\n",
              "  </button>\n",
              "\n",
              "<style>\n",
              "  .colab-df-quickchart {\n",
              "      --bg-color: #E8F0FE;\n",
              "      --fill-color: #1967D2;\n",
              "      --hover-bg-color: #E2EBFA;\n",
              "      --hover-fill-color: #174EA6;\n",
              "      --disabled-fill-color: #AAA;\n",
              "      --disabled-bg-color: #DDD;\n",
              "  }\n",
              "\n",
              "  [theme=dark] .colab-df-quickchart {\n",
              "      --bg-color: #3B4455;\n",
              "      --fill-color: #D2E3FC;\n",
              "      --hover-bg-color: #434B5C;\n",
              "      --hover-fill-color: #FFFFFF;\n",
              "      --disabled-bg-color: #3B4455;\n",
              "      --disabled-fill-color: #666;\n",
              "  }\n",
              "\n",
              "  .colab-df-quickchart {\n",
              "    background-color: var(--bg-color);\n",
              "    border: none;\n",
              "    border-radius: 50%;\n",
              "    cursor: pointer;\n",
              "    display: none;\n",
              "    fill: var(--fill-color);\n",
              "    height: 32px;\n",
              "    padding: 0;\n",
              "    width: 32px;\n",
              "  }\n",
              "\n",
              "  .colab-df-quickchart:hover {\n",
              "    background-color: var(--hover-bg-color);\n",
              "    box-shadow: 0 1px 2px rgba(60, 64, 67, 0.3), 0 1px 3px 1px rgba(60, 64, 67, 0.15);\n",
              "    fill: var(--button-hover-fill-color);\n",
              "  }\n",
              "\n",
              "  .colab-df-quickchart-complete:disabled,\n",
              "  .colab-df-quickchart-complete:disabled:hover {\n",
              "    background-color: var(--disabled-bg-color);\n",
              "    fill: var(--disabled-fill-color);\n",
              "    box-shadow: none;\n",
              "  }\n",
              "\n",
              "  .colab-df-spinner {\n",
              "    border: 2px solid var(--fill-color);\n",
              "    border-color: transparent;\n",
              "    border-bottom-color: var(--fill-color);\n",
              "    animation:\n",
              "      spin 1s steps(1) infinite;\n",
              "  }\n",
              "\n",
              "  @keyframes spin {\n",
              "    0% {\n",
              "      border-color: transparent;\n",
              "      border-bottom-color: var(--fill-color);\n",
              "      border-left-color: var(--fill-color);\n",
              "    }\n",
              "    20% {\n",
              "      border-color: transparent;\n",
              "      border-left-color: var(--fill-color);\n",
              "      border-top-color: var(--fill-color);\n",
              "    }\n",
              "    30% {\n",
              "      border-color: transparent;\n",
              "      border-left-color: var(--fill-color);\n",
              "      border-top-color: var(--fill-color);\n",
              "      border-right-color: var(--fill-color);\n",
              "    }\n",
              "    40% {\n",
              "      border-color: transparent;\n",
              "      border-right-color: var(--fill-color);\n",
              "      border-top-color: var(--fill-color);\n",
              "    }\n",
              "    60% {\n",
              "      border-color: transparent;\n",
              "      border-right-color: var(--fill-color);\n",
              "    }\n",
              "    80% {\n",
              "      border-color: transparent;\n",
              "      border-right-color: var(--fill-color);\n",
              "      border-bottom-color: var(--fill-color);\n",
              "    }\n",
              "    90% {\n",
              "      border-color: transparent;\n",
              "      border-bottom-color: var(--fill-color);\n",
              "    }\n",
              "  }\n",
              "</style>\n",
              "\n",
              "  <script>\n",
              "    async function quickchart(key) {\n",
              "      const quickchartButtonEl =\n",
              "        document.querySelector('#' + key + ' button');\n",
              "      quickchartButtonEl.disabled = true;  // To prevent multiple clicks.\n",
              "      quickchartButtonEl.classList.add('colab-df-spinner');\n",
              "      try {\n",
              "        const charts = await google.colab.kernel.invokeFunction(\n",
              "            'suggestCharts', [key], {});\n",
              "      } catch (error) {\n",
              "        console.error('Error during call to suggestCharts:', error);\n",
              "      }\n",
              "      quickchartButtonEl.classList.remove('colab-df-spinner');\n",
              "      quickchartButtonEl.classList.add('colab-df-quickchart-complete');\n",
              "    }\n",
              "    (() => {\n",
              "      let quickchartButtonEl =\n",
              "        document.querySelector('#df-e24734c2-5502-4b42-8c33-92331e52699f button');\n",
              "      quickchartButtonEl.style.display =\n",
              "        google.colab.kernel.accessAllowed ? 'block' : 'none';\n",
              "    })();\n",
              "  </script>\n",
              "</div>\n",
              "\n",
              "    </div>\n",
              "  </div>\n"
            ],
            "application/vnd.google.colaboratory.intrinsic+json": {
              "type": "dataframe",
              "variable_name": "mydata",
              "summary": "{\n  \"name\": \"mydata\",\n  \"rows\": 84,\n  \"fields\": [\n    {\n      \"column\": \"Height.in.cm\",\n      \"properties\": {\n        \"dtype\": \"number\",\n        \"std\": 9,\n        \"min\": 155,\n        \"max\": 202,\n        \"num_unique_values\": 28,\n        \"samples\": [\n          166,\n          182,\n          192\n        ],\n        \"semantic_type\": \"\",\n        \"description\": \"\"\n      }\n    },\n    {\n      \"column\": \"Gender\",\n      \"properties\": {\n        \"dtype\": \"category\",\n        \"num_unique_values\": 2,\n        \"samples\": [\n          \"M\",\n          \"F\"\n        ],\n        \"semantic_type\": \"\",\n        \"description\": \"\"\n      }\n    },\n    {\n      \"column\": \"Shoe.size\",\n      \"properties\": {\n        \"dtype\": \"number\",\n        \"std\": 3,\n        \"min\": 36,\n        \"max\": 48,\n        \"num_unique_values\": 13,\n        \"samples\": [\n          36,\n          44\n        ],\n        \"semantic_type\": \"\",\n        \"description\": \"\"\n      }\n    }\n  ]\n}"
            }
          },
          "metadata": {},
          "execution_count": 4
        }
      ],
      "source": [
        "# Import libraries\n",
        "import pandas as pd\n",
        "import numpy as np\n",
        "import matplotlib.pyplot as plt\n",
        "from scipy.stats import t, norm, ttest_ind, ttest_1samp\n",
        "\n",
        "# Read dataset\n",
        "mydata = pd.read_csv(\"HeightSurvey2024.csv\", sep =\";\")\n",
        "mydata.head() # show first 5 rows"
      ]
    },
    {
      "cell_type": "code",
      "source": [
        "# Create array with Female heights\n",
        "height_f = np.array(mydata[mydata['Gender'] == 'F']['Height.in.cm'])\n",
        "# Create array with Male heights\n",
        "height_m = np.array(mydata[mydata['Gender'] == 'M']['Height.in.cm'])\n",
        "\n",
        "\n",
        "print(\"Height vector for Females:\", height_f)\n",
        "print(\"Height vector for Males:\", height_m)"
      ],
      "metadata": {
        "colab": {
          "base_uri": "https://localhost:8080/"
        },
        "id": "9KZM6BWgmgQx",
        "outputId": "f62021dd-dee7-4b13-f7c6-1b44b28564d6"
      },
      "execution_count": null,
      "outputs": [
        {
          "output_type": "stream",
          "name": "stdout",
          "text": [
            "Height vector for Females: [168 184 167 175 168 170 166 162 172 174 168 168 163 170 165 173 165 171\n",
            " 170 163 165 155 180 165 165 165 168 175 184 170 169 160 168 171 169 162\n",
            " 160 163 158 170 167 169 166 173 168]\n",
            "Height vector for Males: [174 180 183 192 172 187 180 187 183 191 178 187 176 183 187 179 180 175\n",
            " 174 202 186 192 184 175 182 173 184 182 170 182 172 180 182 175 171 184\n",
            " 184 180 186]\n"
          ]
        }
      ]
    },
    {
      "cell_type": "code",
      "source": [
        "# Create array with Female Shoe size\n",
        "shoe_f = np.array(mydata[mydata['Gender'] == 'F']['Shoe.size'])\n",
        "# Create array with Male Shoe size\n",
        "shoe_m = np.array(mydata[mydata['Gender'] == 'M']['Shoe.size'])\n",
        "\n",
        "\n",
        "print(\"Shoe size vector for Females:\", shoe_f)\n",
        "print(\"Shoe size vector for Males:\", shoe_m)"
      ],
      "metadata": {
        "colab": {
          "base_uri": "https://localhost:8080/"
        },
        "id": "ixlA5zjKhyvg",
        "outputId": "b406cf51-2b24-4a17-e5f6-a64dd99f56d7"
      },
      "execution_count": null,
      "outputs": [
        {
          "output_type": "stream",
          "name": "stdout",
          "text": [
            "Shoe size vector for Females: [39 39 38 40 37 38 38 37 39 39 38 38 38 39 39 38 38 38 38 36 38 38 40 38\n",
            " 37 37 37 41 43 38 39 38 39 38 39 38 37 36 37 40 38 37 39 39 37]\n",
            "Shoe size vector for Males: [42 42 43 48 42 47 45 43 44 46 42 46 42 44 43 42 43 45 42 47 45 45 47 39\n",
            " 44 42 44 46 42 44 41 42 42 42 39 43 45 44 43]\n"
          ]
        }
      ]
    },
    {
      "cell_type": "code",
      "source": [
        "# Calculate descriptive statistics\n",
        "mean_f = np.mean(height_f)\n",
        "mean_m = np.mean(height_m)\n",
        "\n",
        "median_f = np.median(height_f)\n",
        "median_m = np.median(height_m)\n",
        "\n",
        "variance_f = np.var(height_f, ddof=1) # ddof=1 (N-1) in denominator\n",
        "variance_m = np.var(height_m, ddof=1)\n",
        "\n",
        "std_dev_f = np.std(height_f, ddof=1)\n",
        "std_dev_m = np.std(height_m, ddof=1)\n",
        "\n",
        "iqr_f = np.percentile(height_f, 75) - np.percentile(height_f, 25)\n",
        "iqr_m = np.percentile(height_m, 75) - np.percentile(height_m, 25)\n",
        "\n",
        "range_f = np.max(height_f) - np.min(height_f)\n",
        "range_m = np.max(height_m) - np.min(height_m)\n",
        "\n",
        "print(\"Female Statistics:\")\n",
        "print(\"Mean:\", mean_f)\n",
        "print(\"Median:\", median_f)\n",
        "print(\"Variance:\", variance_f)\n",
        "print(\"Standard Deviation:\", std_dev_f)\n",
        "print(\"IQR:\", iqr_f)\n",
        "print(\"Range:\", range_f)\n",
        "\n",
        "print(\"\\nMale Statistics:\")\n",
        "print(\"Mean:\", mean_m)\n",
        "print(\"Median:\", median_m)\n",
        "print(\"Variance:\", variance_m)\n",
        "print(\"Standard Deviation:\", std_dev_m)\n",
        "print(\"IQR:\", iqr_m)\n",
        "print(\"Range:\", range_m)"
      ],
      "metadata": {
        "colab": {
          "base_uri": "https://localhost:8080/"
        },
        "id": "6BiDq02Ym-Zw",
        "outputId": "220c4995-abcc-46ed-a7e7-d6450e1fe5e0"
      },
      "execution_count": null,
      "outputs": [
        {
          "output_type": "stream",
          "name": "stdout",
          "text": [
            "Female Statistics:\n",
            "Mean: 168.15555555555557\n",
            "Median: 168.0\n",
            "Variance: 34.17979797979799\n",
            "Standard Deviation: 5.846349115456413\n",
            "IQR: 5.0\n",
            "Range: 29\n",
            "\n",
            "Male Statistics:\n",
            "Mean: 181.3846153846154\n",
            "Median: 182.0\n",
            "Variance: 45.24291497975708\n",
            "Standard Deviation: 6.726285377513883\n",
            "IQR: 9.5\n",
            "Range: 32\n"
          ]
        }
      ]
    },
    {
      "cell_type": "code",
      "source": [
        "# Create function to calculate descriptive statistics\n",
        "def descr_stats(data):\n",
        "  print(\"Mean:\", np.mean(data))\n",
        "  print(\"Median:\", np.median(data))\n",
        "  print(\"Variance:\", np.var(data, ddof=1))\n",
        "  print(\"Standard Deviation:\", np.std(data, ddof=1))\n",
        "  print(\"IQR:\", np.percentile(data, 75) - np.percentile(data, 25))\n",
        "  print(\"Range:\", np.max(data) - np.min(data))\n",
        "\n",
        "print(\"Female Statistics:\")\n",
        "descr_stats(height_f)\n",
        "\n",
        "print(\"Male Statistics:\")\n",
        "descr_stats(height_m)"
      ],
      "metadata": {
        "colab": {
          "base_uri": "https://localhost:8080/"
        },
        "id": "T8_3Ll5zx4rT",
        "outputId": "353e3c77-9e33-4fac-b8f5-051a16cd4bcb"
      },
      "execution_count": null,
      "outputs": [
        {
          "output_type": "stream",
          "name": "stdout",
          "text": [
            "Female Statistics:\n",
            "Mean: 168.15555555555557\n",
            "Median: 168.0\n",
            "Variance: 34.17979797979799\n",
            "Standard Deviation: 5.846349115456413\n",
            "IQR: 5.0\n",
            "Range: 29\n",
            "Male Statistics:\n",
            "Mean: 181.3846153846154\n",
            "Median: 182.0\n",
            "Variance: 45.24291497975708\n",
            "Standard Deviation: 6.726285377513883\n",
            "IQR: 9.5\n",
            "Range: 32\n"
          ]
        }
      ]
    },
    {
      "cell_type": "markdown",
      "source": [
        "# Histograms"
      ],
      "metadata": {
        "id": "PeC_IpuTyIRh"
      }
    },
    {
      "cell_type": "code",
      "source": [
        "# Create histogram for Females Heights\n",
        "plt.hist(height_f, bins=8, color='pink',  label='Female') # use 8 bins of equal width\n",
        "\n",
        "plt.xlabel('Height (cm)')\n",
        "plt.ylabel('Count')\n",
        "plt.title('Histogram of Height')\n",
        "plt.legend()\n",
        "plt.show()"
      ],
      "metadata": {
        "colab": {
          "base_uri": "https://localhost:8080/",
          "height": 472
        },
        "id": "QDJYknjmnXob",
        "outputId": "7101c82e-773f-47a2-f3e1-4e9566fdd66d"
      },
      "execution_count": null,
      "outputs": [
        {
          "output_type": "display_data",
          "data": {
            "text/plain": [
              "<Figure size 640x480 with 1 Axes>"
            ],
            "image/png": "[encoded data removed]"
          },
          "metadata": {}
        }
      ]
    },
    {
      "cell_type": "code",
      "source": [
        "# Create histogram for Males\n",
        "plt.hist(height_m, bins=8, color='pink',  label='Male') # use 8 bins of equal width\n",
        "\n",
        "plt.xlabel('Height (cm)')\n",
        "plt.ylabel('Count')\n",
        "plt.title('Histogram of Height')\n",
        "plt.legend()\n",
        "plt.show()"
      ],
      "metadata": {
        "colab": {
          "base_uri": "https://localhost:8080/",
          "height": 472
        },
        "id": "0D6sIidDnaZE",
        "outputId": "58526113-ea66-4877-a6be-3e90c225e11a"
      },
      "execution_count": null,
      "outputs": [
        {
          "output_type": "display_data",
          "data": {
            "text/plain": [
              "<Figure size 640x480 with 1 Axes>"
            ],
            "image/png": "[encoded data removed]"
          },
          "metadata": {}
        }
      ]
    },
    {
      "cell_type": "code",
      "source": [
        "# Create histogram (bar plot) Female Shoe size\n",
        "shoe_size_counts = mydata[mydata['Gender'] == 'F']['Shoe.size'].value_counts()  # Get counts for each shoe size\n",
        "plt.bar(shoe_size_counts.index, shoe_size_counts.values, label='Female')  # Create bar chart\n",
        "\n",
        "plt.xlabel('Shoe size')\n",
        "plt.ylabel('Count')\n",
        "plt.yticks(range(0, 19, 2))\n",
        "plt.legend()\n",
        "plt.show()"
      ],
      "metadata": {
        "colab": {
          "base_uri": "https://localhost:8080/",
          "height": 449
        },
        "id": "Wv_394Ddia8A",
        "outputId": "83eb9f5e-f19a-4903-dba1-c8ea8138092b"
      },
      "execution_count": null,
      "outputs": [
        {
          "output_type": "display_data",
          "data": {
            "text/plain": [
              "<Figure size 640x480 with 1 Axes>"
            ],
            "image/png": "[encoded data removed]"
          },
          "metadata": {}
        }
      ]
    },
    {
      "cell_type": "code",
      "source": [
        "# Create histogram (bar plot) Male Shoe size\n",
        "shoe_size_counts = mydata[mydata['Gender'] == 'M']['Shoe.size'].value_counts()  # Get counts for each shoe size\n",
        "plt.bar(shoe_size_counts.index, shoe_size_counts.values, label='Male')  # Create bar chart\n",
        "\n",
        "plt.xlabel('Shoe size')\n",
        "plt.ylabel('Count')\n",
        "plt.xticks(range(39, 49, 1))\n",
        "plt.legend()\n",
        "plt.show()"
      ],
      "metadata": {
        "colab": {
          "base_uri": "https://localhost:8080/",
          "height": 449
        },
        "id": "kaqIoQsvnoGn",
        "outputId": "4330dc3e-cc7f-4da0-deef-92b496db86b8"
      },
      "execution_count": null,
      "outputs": [
        {
          "output_type": "display_data",
          "data": {
            "text/plain": [
              "<Figure size 640x480 with 1 Axes>"
            ],
            "image/png": "[encoded data removed]"
          },
          "metadata": {}
        }
      ]
    },
    {
      "cell_type": "code",
      "source": [
        "# Create boxplot\n",
        "plt.boxplot([height_f, height_m], labels=['Female', 'Male'], notch=True, sym='o')\n",
        "\n",
        "plt.xlabel('Gender')\n",
        "plt.ylabel('Height (cm)')\n",
        "plt.title('Boxplot of Height by Gender')\n",
        "\n",
        "plt.show()"
      ],
      "metadata": {
        "colab": {
          "base_uri": "https://localhost:8080/",
          "height": 472
        },
        "id": "JKGWRPjznhww",
        "outputId": "115a3591-0302-4ba6-da81-f913b9eef3f9"
      },
      "execution_count": null,
      "outputs": [
        {
          "output_type": "display_data",
          "data": {
            "text/plain": [
              "<Figure size 640x480 with 1 Axes>"
            ],
            "image/png": "[encoded data removed]"
          },
          "metadata": {}
        }
      ]
    },
    {
      "cell_type": "markdown",
      "source": [
        "# Part 2. Confidence intervals and hypothesis testing"
      ],
      "metadata": {
        "id": "mjix-C3lqEFr"
      }
    },
    {
      "cell_type": "code",
      "source": [
        "# Point estimate for the proportion of women in population\n",
        "count_f = len(height_f)\n",
        "count_m = len(height_m)\n",
        "total_count = count_f + count_m\n",
        "women_proportion = count_f / total_count\n",
        "print(f'Вибіркова оцінка частки жінок в вибірці {women_proportion:.3f}')\n"
      ],
      "metadata": {
        "colab": {
          "base_uri": "https://localhost:8080/"
        },
        "id": "kvYIuFFZuNFi",
        "outputId": "d65fe978-704e-4d4d-f27b-a61b08d40ea5"
      },
      "execution_count": null,
      "outputs": [
        {
          "output_type": "stream",
          "name": "stdout",
          "text": [
            "Вибіркова оцінка частки жінок в вибірці 0.536\n"
          ]
        }
      ]
    },
    {
      "cell_type": "code",
      "source": [
        "# Calculate 95% and 99% confidence intervals\n",
        "def prop_CI(confidence_level):\n",
        "  alpha = 1 - confidence_level\n",
        "  z_critical = norm.ppf(1 - alpha / 2)\n",
        "  std_error =  np.sqrt((1 - women_proportion)*women_proportion / total_count)\n",
        "  margin_of_error = z_critical * std_error\n",
        "  confidence_interval_lower = women_proportion - margin_of_error\n",
        "  confidence_interval_upper = women_proportion + margin_of_error\n",
        "  print(f'Довірчий інтервал для частки жінок в популяції {confidence_level * 100}%:'\n",
        "        f'({confidence_interval_lower:.3f}, {confidence_interval_upper:.3f})')\n",
        "\n",
        "prop_CI(confidence_level = 0.95)\n",
        "prop_CI(confidence_level = 0.99)"
      ],
      "metadata": {
        "colab": {
          "base_uri": "https://localhost:8080/"
        },
        "id": "4juhZppTvMvI",
        "outputId": "ba6b3098-bd06-4510-ee02-6d0f3d24374e"
      },
      "execution_count": null,
      "outputs": [
        {
          "output_type": "stream",
          "name": "stdout",
          "text": [
            "Довірчий інтервал для частки жінок в популяції 95.0%:(0.429, 0.642)\n",
            "Довірчий інтервал для частки жінок в популяції 99.0%:(0.396, 0.676)\n"
          ]
        }
      ]
    },
    {
      "cell_type": "code",
      "source": [
        "# Calculate 95% and 99% confidence intervals for Male heights\n",
        "\n",
        "height_mean_m = np.mean(height_m)\n",
        "print(f'Оцінка для середнього зросту чоловіків в генеральній сукупності'\n",
        "      f' {height_mean_m:.2f}')\n",
        "\n",
        "def mean_CI(dataset, confidence_level):\n",
        "  alpha= 1-confidence_level\n",
        "  height_mean = np.mean(dataset)\n",
        "  count = len(dataset)\n",
        "  t_critical = t.ppf(1 - alpha / 2, df=count - 1)\n",
        "  standard_error = np.std(height_m) / np.sqrt(count)\n",
        "  margin_error = t_critical * standard_error\n",
        "  confidence_interval_lower = height_mean - margin_error\n",
        "  confidence_interval_upper = height_mean + margin_error\n",
        "  print(f'Довірчий інтервал {confidence_level * 100}% для середнього зросту '\n",
        "      f'чоловіків:'\n",
        "      f'({confidence_interval_lower:.2f}, {confidence_interval_upper:.2f})')\n",
        "\n",
        "mean_CI(height_m, confidence_level = 0.95)\n",
        "\n",
        "height_mean_m = np.mean(height_m)\n",
        "print(f'Оцінка для середнього зросту чоловіків в генеральній сукупності'\n",
        "      f' {height_mean_m:.2f}')"
      ],
      "metadata": {
        "id": "ZO1e4HASvTkA",
        "colab": {
          "base_uri": "https://localhost:8080/"
        },
        "outputId": "527f0f31-1ad2-444b-c241-60be41e1057e"
      },
      "execution_count": null,
      "outputs": [
        {
          "output_type": "stream",
          "name": "stdout",
          "text": [
            "Оцінка для середнього зросту чоловіків в генеральній сукупності 181.38\n",
            "Довірчий інтервал 95.0% для середнього зросту чоловіків:(179.23, 183.54)\n",
            "Оцінка для середнього зросту чоловіків в генеральній сукупності 181.38\n"
          ]
        }
      ]
    },
    {
      "cell_type": "code",
      "source": [
        "# Calculate 95% and 99% confidence intervals for Male heights\n",
        "\n",
        "height_mean_f = np.mean(height_f)\n",
        "print(f'Оцінка для середнього зросту жінок в генеральній сукупності'\n",
        "      f' {height_mean_f:.2f}')\n",
        "\n",
        "def mean_CI(dataset, confidence_level):\n",
        "  height_mean = np.mean(dataset)\n",
        "  count = len(dataset)\n",
        "  t_critical = t.ppf((1 + confidence_level) / 2, df=count - 1)\n",
        "  standard_error = np.std(height_m) / np.sqrt(count)\n",
        "  margin_error = t_critical * standard_error\n",
        "  confidence_interval_lower = height_mean - margin_error\n",
        "  confidence_interval_upper = height_mean + margin_error\n",
        "  print(f'Довірчий інтервал {confidence_level * 100}% для середнього зросту '\n",
        "      f'жінок:'\n",
        "      f'({confidence_interval_lower:.2f}, {confidence_interval_upper:.2f})')\n",
        "\n",
        "mean_CI(height_f, confidence_level = 0.95)\n",
        "mean_CI(height_f, confidence_level = 0.99)"
      ],
      "metadata": {
        "colab": {
          "base_uri": "https://localhost:8080/"
        },
        "id": "6XSOXxiZ5JLF",
        "outputId": "36fd0dcc-7cb4-4171-8087-a7a30171378f"
      },
      "execution_count": null,
      "outputs": [
        {
          "output_type": "stream",
          "name": "stdout",
          "text": [
            "Оцінка для середнього зросту жінок в генеральній сукупності 168.16\n",
            "Довірчий інтервал 95.0% для середнього зросту жінок:(166.16, 170.15)\n",
            "Довірчий інтервал 99.0% для середнього зросту жінок:(165.49, 170.82)\n"
          ]
        }
      ]
    },
    {
      "cell_type": "code",
      "source": [
        "# Perform one-sample t-test with mean of 164 and alternative hypothesis \"greater\"\n",
        "# H0: mu=164\n",
        "from scipy import stats\n",
        "t_statistic, p_value = stats.ttest_1samp(height_f, popmean=164, alternative=\"greater\")# alternative hypothesis: true mean is greater than 164\n",
        "\n",
        "# Print the results\n",
        "print(f\"t-statistic: {t_statistic:.4f}\")\n",
        "print(f\"p-value: {p_value:.4f}\")\n",
        "\n",
        "alpha = 0.05\n",
        "print(\"\\nSignificance Level:\", alpha)\n",
        "if p_value < alpha:\n",
        "    print(\"Reject the null hypothesis\")\n",
        "else:\n",
        "    print(\"Fail to reject the null hypothesis\")"
      ],
      "metadata": {
        "colab": {
          "base_uri": "https://localhost:8080/"
        },
        "id": "i-VTxVlN29Kt",
        "outputId": "65f41627-06ba-4cb0-8595-d485ac7255ec"
      },
      "execution_count": null,
      "outputs": [
        {
          "output_type": "stream",
          "name": "stdout",
          "text": [
            "t-statistic: 4.7682\n",
            "p-value: 0.0000\n",
            "\n",
            "Significance Level: 0.05\n",
            "Reject the null hypothesis\n"
          ]
        }
      ]
    },
    {
      "cell_type": "code",
      "source": [
        "# Perform one-sample t-test with mean of 175 and alternative hypothesis \"greater\"\n",
        "# H0: mu=175\n",
        "from scipy import stats\n",
        "t_statistic, p_value = stats.ttest_1samp(height_m, popmean=175, alternative=\"greater\")\n",
        "\n",
        "# Print the results\n",
        "print(f\"t-statistic: {t_statistic:.4f}\")\n",
        "print(f\"p-value: {p_value:.4f}\")\n",
        "\n",
        "alpha = 0.05\n",
        "print(\"\\nSignificance Level:\", alpha)\n",
        "if p_value < alpha:\n",
        "    print(\"Reject the null hypothesis\")\n",
        "else:\n",
        "    print(\"Fail to reject the null hypothesis\")"
      ],
      "metadata": {
        "colab": {
          "base_uri": "https://localhost:8080/"
        },
        "id": "9vAPjKM93b-R",
        "outputId": "c898a80e-b2bd-4e57-990e-6116adb58c5c"
      },
      "execution_count": null,
      "outputs": [
        {
          "output_type": "stream",
          "name": "stdout",
          "text": [
            "t-statistic: 5.9278\n",
            "p-value: 0.0000\n",
            "\n",
            "Significance Level: 0.05\n",
            "Reject the null hypothesis\n"
          ]
        }
      ]
    },
    {
      "cell_type": "markdown",
      "source": [
        "# Bonus"
      ],
      "metadata": {
        "id": "qzh04sParEjK"
      }
    },
    {
      "cell_type": "code",
      "source": [
        "import seaborn as sns\n",
        "\n",
        "# Скрипкова діаграма — це метод відображення числових даних. Це схоже на коробковий графік, з додаванням оберненого графіку щільності ядра з кожного боку.\n",
        "sns.violinplot(\n",
        "    x = \"Gender\",\n",
        "    y = \"Height.in.cm\",\n",
        "    #inner=\"quartile\",\n",
        "    data=mydata,\n",
        "    color = \"white\"\n",
        ")"
      ],
      "metadata": {
        "colab": {
          "base_uri": "https://localhost:8080/",
          "height": 466
        },
        "id": "cXhYg6JeUZ4M",
        "outputId": "7550f7ad-15fe-4bd7-869f-906ab77f683a"
      },
      "execution_count": null,
      "outputs": [
        {
          "output_type": "execute_result",
          "data": {
            "text/plain": [
              "<Axes: xlabel='Gender', ylabel='Height.in.cm'>"
            ]
          },
          "metadata": {},
          "execution_count": 20
        },
        {
          "output_type": "display_data",
          "data": {
            "text/plain": [
              "<Figure size 640x480 with 1 Axes>"
            ],
            "image/png": "[encoded data removed]"
          },
          "metadata": {}
        }
      ]
    }
  ]
}